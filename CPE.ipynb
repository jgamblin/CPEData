{
 "cells": [
  {
   "cell_type": "code",
   "execution_count": 1,
   "id": "attractive-stamp",
   "metadata": {},
   "outputs": [],
   "source": [
    "%%capture\n",
    "!mkdir -p jsondata\n",
    "%cd jsondata\n",
    "!rm *.json \n",
    "!rm *.zip \n",
    "!wget https://nvd.nist.gov/feeds/json/cve/1.1/nvdcve-1.1-{2000..2022}.json.zip \n",
    "!unzip -o \"*.zip\" "
   ]
  },
  {
   "cell_type": "code",
   "execution_count": 2,
   "id": "stuffed-appearance",
   "metadata": {},
   "outputs": [],
   "source": [
    "import glob\n",
    "import logging\n",
    "import json\n",
    "import os\n",
    "import pandas as pd\n",
    "import warnings\n",
    "\n",
    "logging.getLogger('matplotlib.font_manager').disabled = True\n",
    "warnings.filterwarnings(\"ignore\")"
   ]
  },
  {
   "cell_type": "code",
   "execution_count": 3,
   "id": "inner-count",
   "metadata": {},
   "outputs": [],
   "source": [
    "row_accumulator = []\n",
    "\n",
    "\n",
    "for filename in glob.glob('nvdcve-1.1-*.json'):\n",
    "    with open(filename, 'r', encoding='utf-8') as f:\n",
    "        nvd_data = json.load(f)\n",
    "        for cves in nvd_data['CVE_Items']:\n",
    "            if cves['configurations']['nodes'] != []:\n",
    "                if \"children\" in cves['configurations']['nodes'][0]:\n",
    "                    for j in range(len(cves['configurations']['nodes'][0]['children'])):\n",
    "                        for cpe in cves['configurations']['nodes'][0]['children'][j]['cpe_match']:\n",
    "                            if cpe['vulnerable'] == True:\n",
    "                                        cve = cves['cve']['CVE_data_meta']['ID']\n",
    "                                        cpe = cpe['cpe23Uri']\n",
    "                                        new_row = { \n",
    "                                        'CVE': cve,\n",
    "                                        'CPE' : cpe\n",
    "                                        }\n",
    "                                        row_accumulator.append(new_row)\n",
    "        \n",
    "\n",
    "\n",
    "nvd = pd.DataFrame(row_accumulator)                            "
   ]
  },
  {
   "cell_type": "markdown",
   "id": "8c5b5214",
   "metadata": {},
   "source": [
    "## Average Number of CPEs per CVE"
   ]
  },
  {
   "cell_type": "code",
   "execution_count": 7,
   "id": "better-calculator",
   "metadata": {},
   "outputs": [
    {
     "data": {
      "text/plain": [
       "5.39"
      ]
     },
     "execution_count": 7,
     "metadata": {},
     "output_type": "execute_result"
    }
   ],
   "source": [
    "nvd['CVE'].value_counts().mean().round(2)"
   ]
  },
  {
   "cell_type": "markdown",
   "id": "ed8c7a8f",
   "metadata": {},
   "source": [
    "## CVEs with the Most CPEs"
   ]
  },
  {
   "cell_type": "code",
   "execution_count": 5,
   "id": "temporal-disposal",
   "metadata": {},
   "outputs": [
    {
     "data": {
      "text/plain": [
       "CVE-2021-1620     690\n",
       "CVE-2011-3664     325\n",
       "CVE-2012-1350     322\n",
       "CVE-2007-6694     316\n",
       "CVE-2008-7256     303\n",
       "CVE-2011-1011     270\n",
       "CVE-2021-31366    267\n",
       "CVE-2012-5120     248\n",
       "CVE-2016-5995     243\n",
       "CVE-2010-0741     241\n",
       "CVE-2021-31382    239\n",
       "CVE-2021-0272     235\n",
       "CVE-2021-0228     231\n",
       "CVE-2020-1680     228\n",
       "CVE-2021-0273     226\n",
       "CVE-2009-2711     226\n",
       "CVE-2011-3666     225\n",
       "CVE-2011-2366     225\n",
       "CVE-2009-2596     222\n",
       "CVE-2009-2486     222\n",
       "Name: CVE, dtype: int64"
      ]
     },
     "execution_count": 5,
     "metadata": {},
     "output_type": "execute_result"
    }
   ],
   "source": [
    "nvd['CVE'].value_counts().head(20)"
   ]
  },
  {
   "cell_type": "markdown",
   "id": "d5907a8a",
   "metadata": {},
   "source": [
    "## Most Assigned CPEs"
   ]
  },
  {
   "cell_type": "code",
   "execution_count": 6,
   "id": "celtic-employer",
   "metadata": {},
   "outputs": [
    {
     "data": {
      "text/plain": [
       "cpe:2.3:a:adobe:acrobat_dc:*:*:*:*:classic:*:*:*                         2009\n",
       "cpe:2.3:a:adobe:acrobat_reader_dc:*:*:*:*:classic:*:*:*                  2008\n",
       "cpe:2.3:a:adobe:acrobat_dc:*:*:*:*:continuous:*:*:*                      1312\n",
       "cpe:2.3:a:adobe:acrobat_reader_dc:*:*:*:*:continuous:*:*:*               1306\n",
       "cpe:2.3:a:adobe:flash_player:*:*:*:*:*:*:*:*                              720\n",
       "cpe:2.3:a:adobe:acrobat:*:*:*:*:*:*:*:*                                   647\n",
       "cpe:2.3:a:foxitsoftware:phantompdf:*:*:*:*:*:*:*:*                        374\n",
       "cpe:2.3:a:adobe:reader:*:*:*:*:*:*:*:*                                    352\n",
       "cpe:2.3:a:google:chrome:*:*:*:*:*:*:*:*                                   325\n",
       "cpe:2.3:a:adobe:acrobat_reader:*:*:*:*:*:*:*:*                            298\n",
       "cpe:2.3:o:qualcomm:apq8009_firmware:-:*:*:*:*:*:*:*                       266\n",
       "cpe:2.3:o:qualcomm:mdm9206_firmware:-:*:*:*:*:*:*:*                       265\n",
       "cpe:2.3:a:microsoft:edge:-:*:*:*:*:*:*:*                                  217\n",
       "cpe:2.3:a:foxitsoftware:reader:*:*:*:*:*:*:*:*                            194\n",
       "cpe:2.3:a:sandhillsdev:easy_digital_downloads:*:*:*:*:*:wordpress:*:*     186\n",
       "cpe:2.3:a:apple:safari:*:*:*:*:*:*:*:*                                    179\n",
       "cpe:2.3:a:apple:webkit:*:*:*:*:*:*:*:*                                    156\n",
       "cpe:2.3:a:mozilla:firefox:*:*:*:*:*:*:*:*                                 154\n",
       "cpe:2.3:a:foxitsoftware:foxit_reader:*:*:*:*:*:*:*:*                      153\n",
       "cpe:2.3:a:microsoft:edge:*:*:*:*:*:*:*:*                                  125\n",
       "Name: CPE, dtype: int64"
      ]
     },
     "execution_count": 6,
     "metadata": {},
     "output_type": "execute_result"
    }
   ],
   "source": [
    "nvd['CPE'].value_counts().head(20)"
   ]
  }
 ],
 "metadata": {
  "kernelspec": {
   "display_name": "Python 3",
   "language": "python",
   "name": "python3"
  },
  "language_info": {
   "codemirror_mode": {
    "name": "ipython",
    "version": 3
   },
   "file_extension": ".py",
   "mimetype": "text/x-python",
   "name": "python",
   "nbconvert_exporter": "python",
   "pygments_lexer": "ipython3",
   "version": "3.9.9"
  }
 },
 "nbformat": 4,
 "nbformat_minor": 5
}
