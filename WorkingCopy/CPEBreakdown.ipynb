{
 "cells": [
  {
   "cell_type": "markdown",
   "id": "daily-makeup",
   "metadata": {},
   "source": [
    "# CPE Data\n",
    "CPE Data"
   ]
  },
  {
   "cell_type": "code",
   "execution_count": 1,
   "id": "chinese-liabilities",
   "metadata": {},
   "outputs": [],
   "source": [
    "%%capture\n",
    "!mkdir -p jsondata\n",
    "%cd jsondata\n",
    "!rm *.json \n",
    "!rm *.zip \n",
    "!wget https://nvd.nist.gov/feeds/json/cve/1.1/nvdcve-1.1-{2002..2022}.json.zip \n",
    "!unzip -o \"*.zip\" "
   ]
  },
  {
   "cell_type": "code",
   "execution_count": 2,
   "id": "practical-conflict",
   "metadata": {},
   "outputs": [],
   "source": [
    "import glob\n",
    "import logging\n",
    "import json\n",
    "import os\n",
    "import pandas as pd\n",
    "import warnings\n",
    "\n",
    "logging.getLogger('matplotlib.font_manager').disabled = True\n",
    "warnings.filterwarnings(\"ignore\")"
   ]
  },
  {
   "cell_type": "code",
   "execution_count": 3,
   "id": "legislative-festival",
   "metadata": {},
   "outputs": [],
   "source": [
    "row_accumulator = []\n",
    "\n",
    "\n",
    "for filename in glob.glob('nvdcve-1.1-20*.json'):\n",
    "    with open(filename, 'r', encoding='utf-8') as f:\n",
    "        nvd_data = json.load(f)\n",
    "        for cves in nvd_data['CVE_Items']:\n",
    "            if cves['configurations']['nodes'] != []:\n",
    "                try:\n",
    "                    for j in range(len(cves['configurations']['nodes'][0])):\n",
    "                        for cpe in cves['configurations']['nodes'][j]['cpe_match']:\n",
    "                                if cpe['vulnerable'] == True:\n",
    "                                    cve = cves['cve']['CVE_data_meta']['ID']\n",
    "                                    cpe_string = cpe['cpe23Uri']\n",
    "                                    new_row = { \n",
    "                                    'CVE': cve,\n",
    "                                    'CPE' : cpe_string,\n",
    "                                    }\n",
    "                                    row_accumulator.append(new_row)\n",
    "                except IndexError:\n",
    "                    pass\n",
    "                if \"children\" in cves['configurations']['nodes'][0]:\n",
    "                    for j in range(len(cves['configurations']['nodes'][0]['children'])):\n",
    "                        for cpe in cves['configurations']['nodes'][0]['children'][j]['cpe_match']:\n",
    "                            if cpe['vulnerable'] == True:\n",
    "                                        cve = cves['cve']['CVE_data_meta']['ID']\n",
    "                                        cpe_string = cpe['cpe23Uri'] \n",
    "                                        new_row = { \n",
    "                                        'CVE': cve,\n",
    "                                        'CPE' : cpe_string,\n",
    "                                        }\n",
    "                                        row_accumulator.append(new_row)\n",
    "        \n",
    "\n",
    "  \n",
    "nvd = pd.DataFrame(row_accumulator)                            "
   ]
  },
  {
   "cell_type": "code",
   "execution_count": 4,
   "id": "2bbce55b-5651-4104-bdb6-5ae7853770b4",
   "metadata": {},
   "outputs": [],
   "source": [
    "nvd[['Format', 'CPE_Version', 'Part', 'Vendor', 'Product', 'Version', 'Update', 'Edition', 'SW_Edition', 'Target_SW', 'Target_HW', 'Language', 'Other']] = nvd['CPE'].str.split(r'(?<!\\\\):', regex=True, expand=True)\n",
    "\n"
   ]
  },
  {
   "cell_type": "code",
   "execution_count": null,
   "id": "200218b6-eda6-48d7-a778-4b40750be3fd",
   "metadata": {},
   "outputs": [
    {
     "data": {
      "application/vnd.jupyter.widget-view+json": {
       "model_id": "e3d2a4c294e040c0b3eeaa6ecdabac4d",
       "version_major": 2,
       "version_minor": 0
      },
      "text/plain": [
       "Summarize dataset:   0%|          | 0/5 [00:00<?, ?it/s]"
      ]
     },
     "metadata": {},
     "output_type": "display_data"
    }
   ],
   "source": [
    "from pandas_profiling import ProfileReport\n",
    "profile = ProfileReport(nvd)\n",
    "profile.to_file(\"Analysis.pdf\")\n",
    "profile"
   ]
  }
 ],
 "metadata": {
  "kernelspec": {
   "display_name": "Python 3 (ipykernel)",
   "language": "python",
   "name": "python3"
  },
  "language_info": {
   "codemirror_mode": {
    "name": "ipython",
    "version": 3
   },
   "file_extension": ".py",
   "mimetype": "text/x-python",
   "name": "python",
   "nbconvert_exporter": "python",
   "pygments_lexer": "ipython3",
   "version": "3.9.7"
  }
 },
 "nbformat": 4,
 "nbformat_minor": 5
}
